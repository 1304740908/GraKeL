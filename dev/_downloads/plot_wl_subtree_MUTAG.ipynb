{
  "nbformat": 4,
  "metadata": {
    "language_info": {
      "mimetype": "text/x-python",
      "nbconvert_exporter": "python",
      "codemirror_mode": {
        "version": 3,
        "name": "ipython"
      },
      "version": "3.5.2",
      "file_extension": ".py",
      "pygments_lexer": "ipython3",
      "name": "python"
    },
    "kernelspec": {
      "language": "python",
      "name": "python3",
      "display_name": "Python 3"
    }
  },
  "nbformat_minor": 0,
  "cells": [
    {
      "execution_count": null,
      "cell_type": "code",
      "metadata": {
        "collapsed": false
      },
      "outputs": [],
      "source": [
        "%matplotlib inline"
      ]
    },
    {
      "cell_type": "markdown",
      "metadata": {},
      "source": [
        "\n==============================================================================\nFit-Transform and classification on the MUTAG dataset using a WL-dirac kernel.\n==============================================================================\n\nAn example plot of :class:`grakel.GraphKernel`\n\n"
      ]
    },
    {
      "execution_count": null,
      "cell_type": "code",
      "metadata": {
        "collapsed": false
      },
      "outputs": [],
      "source": [
        "print(__doc__)\n\nfrom time import time\n\nfrom sklearn.metrics import accuracy_score\nfrom sklearn.model_selection import train_test_split\nfrom sklearn import svm\n\nfrom grakel import datasets\nfrom grakel import GraphKernel\n\n# Loads the Mutag dataset from:\n# https://ls11-www.cs.tu-dortmund.de/staff/morris/graphkerneldatasets\n# the biggest collection of benchmark datasets for graph_kernels.\nmutag = datasets.fetch_dataset(\"MUTAG\", verbose=False)\nG, y = mutag.data, mutag.target\n\n# Train-test split of graph data\nG_train, G_test, y_train, y_test = train_test_split(G, y, test_size=0.1)\n\nstart = time()\n# Initialise a weifeiler kernel, with a dirac base_kernel.\ngk = GraphKernel(kernel=[{\"name\": \"weisfeiler_lehman\", \"niter\": 5},\n                         {\"name\": \"subtree_wl\"}], normalize=True)\n\n# Calculate the kernel matrix.\nK_train = gk.fit_transform(G_train)\nK_test = gk.transform(G_test)\nend = time()\n\n# Initialise an SVM and fit.\nclf = svm.SVC(kernel='precomputed', C=1)\nclf.fit(K_train, y_train)\n\n# Predict and test.\ny_pred = clf.predict(K_test)\n\n# Calculate accuracy of classification.\nacc = accuracy_score(y_test, y_pred)\n\nprint(\"Accuracy:\", str(round(acc*100, 2)), \"% | Took:\",\n      str(round(end - start, 2)), \"s\")"
      ]
    }
  ]
}