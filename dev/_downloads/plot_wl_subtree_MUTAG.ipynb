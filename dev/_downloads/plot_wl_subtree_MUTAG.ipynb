{
  "nbformat_minor": 0, 
  "nbformat": 4, 
  "cells": [
    {
      "execution_count": null, 
      "cell_type": "code", 
      "source": [
        "%matplotlib inline"
      ], 
      "outputs": [], 
      "metadata": {
        "collapsed": false
      }
    }, 
    {
      "source": [
        "\n=============================================================\nClassification on the MUTAG dataset using the WL-subtree kernel.\n=============================================================\n\nAn example plot of :class:`grakel.GraphKernel`, :class:`grakel.WeisfeilerLehman`, :class:`grakel.VertexHistogram`\n\n"
      ], 
      "cell_type": "markdown", 
      "metadata": {}
    }, 
    {
      "execution_count": null, 
      "cell_type": "code", 
      "source": [
        "from __future__ import print_function\nprint(__doc__)\n\nfrom time import time\n\nfrom sklearn.metrics import accuracy_score\nfrom sklearn.model_selection import train_test_split\nfrom sklearn import svm\n\nfrom grakel import datasets\nfrom grakel import GraphKernel\n\nfrom matplotlib import pylab as pl\n\n# Loads the Mutag dataset from:\n# https://ls11-www.cs.tu-dortmund.de/staff/morris/graphkerneldatasets\n# the biggest collection of benchmark datasets for graph_kernels.\nmutag = datasets.fetch_dataset(\"MUTAG\", verbose=False)\nG, y = mutag.data, mutag.target\n\n# Train-test split of graph data\nG_train, G_test, y_train, y_test = train_test_split(G, y, test_size=0.1, random_state=42)\n\nstart = time()\n# Initialise a weifeiler kernel, with a dirac base_kernel.\ngk = GraphKernel(kernel=[{\"name\": \"weisfeiler_lehman\", \"niter\": 5},\n                         {\"name\": \"subtree_wl\"}], normalize=True)\n\n# Calculate the kernel matrix.\nK_train = gk.fit_transform(G_train)\nK_test = gk.transform(G_test)\nend = time()\n\n# Initialise an SVM and fit.\nclf = svm.SVC(kernel='precomputed', C=1)\nclf.fit(K_train, y_train)\n\n# Predict and test.\ny_pred = clf.predict(K_test)\n\n# Calculate accuracy of classification.\nacc = accuracy_score(y_test, y_pred)\n\nprint(\"Accuracy:\", str(round(acc*100, 2)), \"% | Took:\",\n      str(round(end - start, 2)), \"s\")\n\nfig = pl.figure()\npl.subplot(121)\npl.imshow(K_train)\npl.subplot(122)\npl.imshow(K_test)\npl.show()"
      ], 
      "outputs": [], 
      "metadata": {
        "collapsed": false
      }
    }
  ], 
  "metadata": {
    "kernelspec": {
      "display_name": "Python 2", 
      "name": "python2", 
      "language": "python"
    }, 
    "language_info": {
      "mimetype": "text/x-python", 
      "nbconvert_exporter": "python", 
      "name": "python", 
      "file_extension": ".py", 
      "version": "2.7.15", 
      "pygments_lexer": "ipython2", 
      "codemirror_mode": {
        "version": 2, 
        "name": "ipython"
      }
    }
  }
}