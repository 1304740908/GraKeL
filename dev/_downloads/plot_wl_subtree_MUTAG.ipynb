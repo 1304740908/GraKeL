{
  "nbformat_minor": 0,
  "metadata": {
    "language_info": {
      "nbconvert_exporter": "python",
      "name": "python",
      "pygments_lexer": "ipython3",
      "mimetype": "text/x-python",
      "file_extension": ".py",
      "codemirror_mode": {
        "version": 3,
        "name": "ipython"
      },
      "version": "3.5.5"
    },
    "kernelspec": {
      "display_name": "Python 3",
      "name": "python3",
      "language": "python"
    }
  },
  "cells": [
    {
      "source": [
        "%matplotlib inline"
      ],
      "outputs": [],
      "execution_count": null,
      "metadata": {
        "collapsed": false
      },
      "cell_type": "code"
    },
    {
      "source": [
        "\n==============================================================================\nFit-Transform and classification on the MUTAG dataset using a WL-dirac kernel.\n==============================================================================\n\nAn example plot of :class:`grakel.GraphKernel`, :class:`grakel.kernels.weisfeiler_lehman`, :class:`grakel.kernels.subtree_wl`\n\n"
      ],
      "metadata": {},
      "cell_type": "markdown"
    },
    {
      "source": [
        "print(__doc__)\n\nfrom time import time\n\nfrom sklearn.metrics import accuracy_score\nfrom sklearn.model_selection import train_test_split\nfrom sklearn import svm\n\nfrom grakel import datasets\nfrom grakel import GraphKernel\n\n# Loads the Mutag dataset from:\n# https://ls11-www.cs.tu-dortmund.de/staff/morris/graphkerneldatasets\n# the biggest collection of benchmark datasets for graph_kernels.\nmutag = datasets.fetch_dataset(\"MUTAG\", verbose=False)\nG, y = mutag.data, mutag.target\n\n# Train-test split of graph data\nG_train, G_test, y_train, y_test = train_test_split(G, y, test_size=0.1, random_state=42)\n\nstart = time()\n# Initialise a weifeiler kernel, with a dirac base_kernel.\ngk = GraphKernel(kernel=[{\"name\": \"weisfeiler_lehman\", \"niter\": 5},\n                         {\"name\": \"subtree_wl\"}], normalize=True)\n\n# Calculate the kernel matrix.\nK_train = gk.fit_transform(G_train)\nK_test = gk.transform(G_test)\nend = time()\n\n# Initialise an SVM and fit.\nclf = svm.SVC(kernel='precomputed', C=1)\nclf.fit(K_train, y_train)\n\n# Predict and test.\ny_pred = clf.predict(K_test)\n\n# Calculate accuracy of classification.\nacc = accuracy_score(y_test, y_pred)\n\nprint(\"Accuracy:\", str(round(acc*100, 2)), \"% | Took:\",\n      str(round(end - start, 2)), \"s\")"
      ],
      "outputs": [],
      "execution_count": null,
      "metadata": {
        "collapsed": false
      },
      "cell_type": "code"
    }
  ],
  "nbformat": 4
}