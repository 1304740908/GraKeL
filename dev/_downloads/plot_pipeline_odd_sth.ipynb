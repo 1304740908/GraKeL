{
  "cells": [
    {
      "cell_type": "code",
      "source": [
        "%matplotlib inline"
      ],
      "execution_count": null,
      "outputs": [],
      "metadata": {
        "collapsed": false
      }
    },
    {
      "cell_type": "markdown",
      "source": [
        "\n# Cross-Validation sk-learn Pipeline example on MUTAG using ODD-STh Kernel\n\n\nAn example plot of :class:`grakel.GraphKernel`, :class:`grakel.odd_sth`\n\n"
      ],
      "metadata": {}
    },
    {
      "cell_type": "code",
      "source": [
        "print(__doc__)\nimport numpy as np\n\nfrom time import time\n\nfrom sklearn import svm\nfrom sklearn.model_selection import GridSearchCV\nfrom sklearn.model_selection import cross_val_predict\nfrom sklearn.pipeline import make_pipeline\nfrom sklearn.metrics import accuracy_score\n\nfrom grakel import datasets\nfrom grakel import GraphKernel\n\n# Loads the Mutag dataset from:\n# https://ls11-www.cs.tu-dortmund.de/staff/morris/graphkerneldatasets\n# the biggest collection of benchmark datasets for graph_kernels.\nmutag = datasets.fetch_dataset(\"MUTAG\", verbose=False)\nG, y = mutag.data, mutag.target\nC_grid = (10. ** np.arange(1,10,1) / len(G)).tolist()\nn_folds = 10\n\nestimator = make_pipeline(\n    GraphKernel(kernel=dict(name=\"odd_sth\"), normalize=True),\n    GridSearchCV(svm.SVC(kernel='precomputed'), dict(C=C_grid),\n                 scoring='accuracy'))\n\nacc = accuracy_score(y, cross_val_predict(estimator, G, y, cv=n_folds))\nprint(\"Accuracy:\", str(round(acc*100, 2)) + \"%\")"
      ],
      "execution_count": null,
      "outputs": [],
      "metadata": {
        "collapsed": false
      }
    }
  ],
  "nbformat_minor": 0,
  "nbformat": 4,
  "metadata": {
    "kernelspec": {
      "display_name": "Python 3",
      "language": "python",
      "name": "python3"
    },
    "language_info": {
      "codemirror_mode": {
        "version": 3,
        "name": "ipython"
      },
      "version": "3.5.5",
      "name": "python",
      "pygments_lexer": "ipython3",
      "file_extension": ".py",
      "mimetype": "text/x-python",
      "nbconvert_exporter": "python"
    }
  }
}