{
  "metadata": {
    "kernelspec": {
      "language": "python",
      "display_name": "Python 3",
      "name": "python3"
    },
    "language_info": {
      "mimetype": "text/x-python",
      "file_extension": ".py",
      "codemirror_mode": {
        "name": "ipython",
        "version": 3
      },
      "name": "python",
      "nbconvert_exporter": "python",
      "version": "3.5.5",
      "pygments_lexer": "ipython3"
    }
  },
  "nbformat_minor": 0,
  "cells": [
    {
      "source": [
        "%matplotlib inline"
      ],
      "metadata": {
        "collapsed": false
      },
      "execution_count": null,
      "cell_type": "code",
      "outputs": []
    },
    {
      "metadata": {},
      "source": [
        "\n# Cross-Validation sk-learn Pipeline example on MUTAG using ODD-STh Kernel\n\n\nAn example plot of :class:`grakel.GraphKernel`, :class:`grakel.odd_sth`\n\n"
      ],
      "cell_type": "markdown"
    },
    {
      "source": [
        "print(__doc__)\nimport numpy as np\n\nfrom time import time\n\nfrom sklearn import svm\nfrom sklearn.model_selection import GridSearchCV\nfrom sklearn.model_selection import cross_val_predict\nfrom sklearn.pipeline import make_pipeline\nfrom sklearn.metrics import accuracy_score\n\nfrom grakel import datasets\nfrom grakel import GraphKernel\n\n# Loads the Mutag dataset from:\n# https://ls11-www.cs.tu-dortmund.de/staff/morris/graphkerneldatasets\n# the biggest collection of benchmark datasets for graph_kernels.\nmutag = datasets.fetch_dataset(\"MUTAG\", verbose=False)\nG, y = mutag.data, mutag.target\nC_grid = (10. ** np.arange(1,10,1) / len(G)).tolist()\nn_folds = 10\n\nestimator = make_pipeline(\n    GraphKernel(kernel=dict(name=\"odd_sth\"), normalize=True),\n    GridSearchCV(svm.SVC(kernel='precomputed'), dict(C=C_grid),\n                 scoring='accuracy'))\n\nacc = accuracy_score(y, cross_val_predict(estimator, G, y, cv=n_folds))\nprint(\"Accuracy:\", str(round(acc*100, 2)) + \"%\")"
      ],
      "metadata": {
        "collapsed": false
      },
      "execution_count": null,
      "cell_type": "code",
      "outputs": []
    }
  ],
  "nbformat": 4
}