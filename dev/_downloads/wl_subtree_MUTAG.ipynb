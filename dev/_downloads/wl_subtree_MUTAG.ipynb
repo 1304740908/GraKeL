{
  "cells": [
    {
      "source": [
        "%matplotlib inline"
      ],
      "outputs": [],
      "cell_type": "code",
      "metadata": {
        "collapsed": false
      },
      "execution_count": null
    },
    {
      "cell_type": "markdown",
      "metadata": {},
      "source": [
        "\n==============================================================================\nFit-Transform and classification on the MUTAG dataset using a WL-dirac kernel.\n==============================================================================\n\nAn example plot of :class:`grakel.graph_kernels`\n\n"
      ]
    },
    {
      "source": [
        "from sklearn.metrics import accuracy_score\nfrom sklearn.model_selection import train_test_split\nfrom sklearn import svm\n\nimport grakel.dataset.base as dataset\nimport grakel.graph_kernels as gkl\n\n# Loads the Mutag dataset from:\n# https://ls11-www.cs.tu-dortmund.de/staff/morris/graphkerneldatasets\n# the biggest collection of benchmark datasets for graph_kernels.\nG, C = dataset.load_dataset(\"MUTAG\", verbose=False)\n\n# Train-test split of graph data\nGTr, GTe, ytr, yte = train_test_split(G, C, test_size=0.1)\n\n# Initialise a weifeiler kernel, with a dirac base_kernel.\ngk = gkl.GraphKernel(kernel=[{\"name\": \"weisfeiler_lehman\", \"niter\": 5},\n                             {\"name\": \"subtree_wl\"}], normalize=True)\n\n# Calculate the kernel matrix.\nKTr = gk.fit_transform(GTr)\nKTe = gk.transform(GTe)\n\n# Initialise an SVM and fit.\nclf = svm.SVC(kernel='precomputed', C=1)\nclf.fit(KTr, ytr)\n\n# Predict and test.\ny_pred = clf.predict(KTe)\n\n# Calculate accuracy of classification.\nacc = accuracy_score(yte, y_pred)\n\nprint(\"Accuracy:\", str(round(acc*100, 2)), \"%\")"
      ],
      "outputs": [],
      "cell_type": "code",
      "metadata": {
        "collapsed": false
      },
      "execution_count": null
    }
  ],
  "nbformat_minor": 0,
  "nbformat": 4,
  "metadata": {
    "kernelspec": {
      "language": "python",
      "display_name": "Python 3",
      "name": "python3"
    },
    "language_info": {
      "codemirror_mode": {
        "version": 3,
        "name": "ipython"
      },
      "pygments_lexer": "ipython3",
      "version": "3.5.2",
      "mimetype": "text/x-python",
      "file_extension": ".py",
      "nbconvert_exporter": "python",
      "name": "python"
    }
  }
}