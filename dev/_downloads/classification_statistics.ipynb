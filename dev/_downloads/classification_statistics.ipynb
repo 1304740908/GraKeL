{
  "cells": [
    {
      "cell_type": "code",
      "outputs": [],
      "source": [
        "%matplotlib inline"
      ],
      "metadata": {
        "collapsed": false
      },
      "execution_count": null
    },
    {
      "cell_type": "markdown",
      "source": [
        "\n==============================================================================\nClassification statistics on the MUTAG, ENZYMES datasets.\n==============================================================================\n\nAn example plot of :class:`grakel.graph_kernels`\n\n"
      ],
      "metadata": {}
    },
    {
      "cell_type": "code",
      "outputs": [],
      "source": [
        "import time\nimport matplotlib.pyplot as plt\n\nfrom sklearn.metrics import accuracy_score\nfrom sklearn.model_selection import train_test_split\nfrom sklearn import svm\n\nimport grakel.dataset.base as dataset\nimport grakel.graph_kernels as gkl\n\n\ndef sec_to_time(sec):\n    \"\"\"Print time in a correct format.\"\"\"\n    dt = list()\n    days = int(sec // 86400)\n    if days > 0:\n        sec -= 86400*days\n        dt.append(str(days) + \" d\")\n\n    hrs = int(sec // 3600)\n    if hrs > 0:\n        sec -= 3600*hrs\n        dt.append(str(hrs) + \" h\")\n\n    mins = int(sec // 60)\n    if mins > 0:\n        sec -= 60*mins\n        dt.append(str(mins) + \" m\")\n\n    if sec > 0:\n        dt.append(str(round(sec, 2)) + \" s\")\n    return \" \".join(dt)\n\n\n# Loads the MUTAG, ENZYMES dataset from:\n# https://ls11-www.cs.tu-dortmund.de/staff/morris/graphkerneldatasets\n# the biggest collection of benchmark datasets for graph_kernels.\n\ndatasets = [\"MUTAG\", \"ENZYMES\"]\n\nkernels = {\n    \"Shortest Path\": [{\"name\": \"shortest_path\"}],\n    \"Graphlet Sampling\": [{\"name\": \"graphlet_sampling\",\n                           \"n_samples\": 150}],\n    \"Random Walk\": [{\"name\": \"random_walk\", \"lambda\": 10**(-3)}],\n    \"Weisfeiler-Lehman/Subtree\": [{\"name\": \"weisfeiler_lehman\", \"niter\": 5},\n                                  {\"name\": \"subtree_wl\"}],\n    \"Weisfeiler-Lehman/Shortest-Path\": [{\"name\": \"weisfeiler_lehman\",\n                                         \"niter\": 5},\n                                        {\"name\": \"shortest_path\"}]\n\n}\n\ncolumns = datasets\nrows = sorted(list(kernels.keys()))\ndata_dataset = list()\nfor (j, d) in enumerate(columns):\n    print(d)\n    data_kernel = list()\n    G, C = dataset.load_dataset(d, verbose=False)\n\n    # Train-test split of graph data\n    GTr, GTe, ytr, yte = train_test_split(G, C, test_size=0.1)\n\n    for (i, k) in enumerate(rows):\n        print(k, end=\" \")\n        gk = gkl.GraphKernel(kernel=kernels[k], normalize=True, concurrency=-1)\n        print(\"\", end=\".\")\n\n        # Calculate the kernel matrix.\n        start = time.time()\n        KTr = gk.fit_transform(GTr)\n        KTe = gk.transform(GTe)\n        end = time.time()\n        print(\"\", end=\".\")\n\n        # Initialise an SVM and fit.\n        clf = svm.SVC(kernel='precomputed')\n        clf.fit(KTr, ytr)\n        print(\"\", end=\". \")\n\n        # Predict and test.\n        y_pred = clf.predict(KTe)\n\n        # Calculate accuracy of classification.\n        data_kernel.append(\n            sec_to_time(round(end - start, 2)) +\n            \" ~ \" + str(round(accuracy_score(yte, y_pred)*100, 2)) + \"%\")\n        print(data_kernel[-1])\n    data_dataset.append(data_kernel)\n    print(\"\")\n\n# Print results on a table using pyplot\ntable = plt.table(cellText=[list(q) for q in zip(*data_dataset)],\n                  rowLabels=rows, colLabels=columns, loc='center')\n_ = plt.axis('off')\n\nplt.show()"
      ],
      "metadata": {
        "collapsed": false
      },
      "execution_count": null
    }
  ],
  "nbformat": 4,
  "nbformat_minor": 0,
  "metadata": {
    "language_info": {
      "file_extension": ".py",
      "name": "python",
      "nbconvert_exporter": "python",
      "version": "3.5.2",
      "codemirror_mode": {
        "name": "ipython",
        "version": 3
      },
      "pygments_lexer": "ipython3",
      "mimetype": "text/x-python"
    },
    "kernelspec": {
      "display_name": "Python 3",
      "name": "python3",
      "language": "python"
    }
  }
}