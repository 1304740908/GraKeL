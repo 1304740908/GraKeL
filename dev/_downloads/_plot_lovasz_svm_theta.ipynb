{
  "nbformat_minor": 0,
  "nbformat": 4,
  "metadata": {
    "kernelspec": {
      "language": "python",
      "name": "python3",
      "display_name": "Python 3"
    },
    "language_info": {
      "pygments_lexer": "ipython3",
      "mimetype": "text/x-python",
      "nbconvert_exporter": "python",
      "version": "3.5.5",
      "name": "python",
      "file_extension": ".py",
      "codemirror_mode": {
        "version": 3,
        "name": "ipython"
      }
    }
  },
  "cells": [
    {
      "execution_count": null,
      "source": [
        "%matplotlib inline"
      ],
      "cell_type": "code",
      "outputs": [],
      "metadata": {
        "collapsed": false
      }
    },
    {
      "source": [
        "\n=========================================================\nClassification on MUTAG using a lovasz, svm-theta kernels\n=========================================================\n\nAn example plot of :class:`grakel.GraphKernel`\n\n"
      ],
      "cell_type": "markdown",
      "metadata": {}
    },
    {
      "execution_count": null,
      "source": [
        "print(__doc__)\nimport numpy as np\n\nfrom time import time\n\nfrom sklearn.metrics import accuracy_score\nfrom sklearn.model_selection import train_test_split\nfrom sklearn import svm\n\nfrom grakel import datasets\nfrom grakel import GraphKernel\n\ndef sec_to_time(sec):\n    \"\"\"Print time in a correct format.\"\"\"\n    dt = list()\n    days = int(sec // 86400)\n    if days > 0:\n        sec -= 86400*days\n        dt.append(str(days) + \" d\")\n\n    hrs = int(sec // 3600)\n    if hrs > 0:\n        sec -= 3600*hrs\n        dt.append(str(hrs) + \" h\")\n\n    mins = int(sec // 60)\n    if mins > 0:\n        sec -= 60*mins\n        dt.append(str(mins) + \" m\")\n\n    if sec > 0:\n        dt.append(str(round(sec, 2)) + \" s\")\n    return \" \".join(dt)\n\n# Loads the Mutag dataset from:\n# https://ls11-www.cs.tu-dortmund.de/staff/morris/graphkerneldatasets\n# the biggest collection of benchmark datasets for graph_kernels.\nmutag = datasets.fetch_dataset(\"MUTAG\", verbose=False)\nG, y = mutag.data, mutag.target\nC_grid = (10. ** np.arange(4,10,1) / len(G)).tolist()\n\nniter = 10\nkernel_names = [\"lovasz_theta\", \"svm_theta\"]\nstats = {k: {\"acc\": list(), \"time\": list()} for k in kernel_names}\n\nfor i in range(niter):\n    # Train-test split of graph data\n    G_train, G_test, y_train, y_test = train_test_split(G, y, test_size=0.1)\n\n\n    for kernel_name in kernel_names:\n        start = time()\n        # Initialise a weifeiler kernel, with a dirac base_kernel.\n        gk = GraphKernel(kernel={\"name\": kernel_name}, normalize=True)\n\n        # Calculate the kernel matrix.\n        K_train = gk.fit_transform(G_train)\n        K_test = gk.transform(G_test)\n        end = time()\n\n        # Cross validation on C, variable\n        acc = 0\n        for c in C_grid:\n            # Initialise an SVM and fit.\n            clf = svm.SVC(kernel='precomputed', C=c)\n\n            # Fit on the train Kernel\n            clf.fit(K_train, y_train)\n\n            # Predict and test.\n            y_pred = clf.predict(K_test)\n\n            # Calculate accuracy of classification.\n            acc = max(acc, accuracy_score(y_test, y_pred))\n\n        stats[kernel_name][\"acc\"].append(acc)\n        stats[kernel_name][\"time\"].append(end-start)\n\nprint(\"Mean values of\", niter, \"iterations:\")\nfor k in kernel_names:\n    print(k, \"> Accuracy:\", str(round(np.mean(stats[k][\"acc\"])*100, 2)), \"% | Took:\",\n          sec_to_time(np.mean(stats[k][\"time\"])))"
      ],
      "cell_type": "code",
      "outputs": [],
      "metadata": {
        "collapsed": false
      }
    }
  ]
}