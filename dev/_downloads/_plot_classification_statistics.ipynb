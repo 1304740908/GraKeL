{
  "metadata": {
    "kernelspec": {
      "language": "python",
      "name": "python3",
      "display_name": "Python 3"
    },
    "language_info": {
      "codemirror_mode": {
        "name": "ipython",
        "version": 3
      },
      "version": "3.5.5",
      "file_extension": ".py",
      "nbconvert_exporter": "python",
      "name": "python",
      "mimetype": "text/x-python",
      "pygments_lexer": "ipython3"
    }
  },
  "cells": [
    {
      "metadata": {
        "collapsed": false
      },
      "outputs": [],
      "source": [
        "%matplotlib inline"
      ],
      "cell_type": "code",
      "execution_count": null
    },
    {
      "metadata": {},
      "source": [
        "\n=========================================================\nClassification statistics on the MUTAG, ENZYMES datasets.\n=========================================================\n\nAn example plot of :class:`grakel.GraphKernel`\n\n"
      ],
      "cell_type": "markdown"
    },
    {
      "metadata": {
        "collapsed": false
      },
      "outputs": [],
      "source": [
        "print(__doc__)\n\nimport time\nimport matplotlib.pyplot as plt\n\nfrom sklearn.metrics import accuracy_score\nfrom sklearn.model_selection import train_test_split\nfrom sklearn import svm\n\nfrom grakel import datasets\nfrom grakel import GraphKernel\n\n\ndef sec_to_time(sec):\n    \"\"\"Print time in a correct format.\"\"\"\n    dt = list()\n    days = int(sec // 86400)\n    if days > 0:\n        sec -= 86400*days\n        dt.append(str(days) + \" d\")\n\n    hrs = int(sec // 3600)\n    if hrs > 0:\n        sec -= 3600*hrs\n        dt.append(str(hrs) + \" h\")\n\n    mins = int(sec // 60)\n    if mins > 0:\n        sec -= 60*mins\n        dt.append(str(mins) + \" m\")\n\n    if sec > 0:\n        dt.append(str(round(sec, 2)) + \" s\")\n    return \" \".join(dt)\n\n\n# Loads the MUTAG, ENZYMES dataset from:\n# https://ls11-www.cs.tu-dortmund.de/staff/morris/graphkerneldatasets\n# the biggest collection of benchmark datasets for graph_kernels.\n\ndatasets = [\"MUTAG\", \"MSRC_21C\"]\n\nkernels = {\n    \"Shortest Path\": [{\"name\": \"shortest_path\"}],\n    \"Graphlet Sampling\": [{\"name\": \"graphlet_sampling\",\n                           \"n_samples\": 150}],\n    \"Weisfeiler-Lehman/Subtree\": [{\"name\": \"weisfeiler_lehman\", \"niter\": 5},\n                                  {\"name\": \"subtree_wl\"}],\n    \"Weisfeiler-Lehman/Shortest-Path\": [{\"name\": \"weisfeiler_lehman\",\n                                         \"niter\": 5},\n                                        {\"name\": \"shortest_path\"}]\n}\n\ncolumns = datasets\nrows = sorted(list(kernels.keys()))\ndata_dataset = list()\nfor (j, d) in enumerate(columns):\n    print(d)\n    data_kernel = list()\n    dataset_d = datasets.fetch_dataset(d, verbose=False)\n    G, y = dataset_d.data, dataset_d.target\n\n    # Train-test split of graph data\n    G_train, G_test, y_train, y_test = train_test_split(G, y, test_size=0.1)\n\n    for (i, k) in enumerate(rows):\n        print(k, end=\" \")\n        gk = GraphKernel(kernel=kernels[k], normalize=True)\n        print(\"\", end=\".\")\n\n        # Calculate the kernel matrix.\n        start = time.time()\n        K_train = gk.fit_transform(G_train)\n        K_test = gk.transform(G_test)\n        end = time.time()\n        print(\"\", end=\".\")\n\n        # Initialise an SVM and fit.\n        clf = svm.SVC(kernel='precomputed')\n        clf.fit(K_train, y_train)\n        print(\"\", end=\". \")\n\n        # Predict and test.\n        y_pred = clf.predict(K_test)\n\n        # Calculate accuracy of classification.\n        data_kernel.append(\n            sec_to_time(round(end - start, 2)) +\n            \" ~ \" + str(round(accuracy_score(y_test, y_pred)*100, 2)) + \"%\")\n        print(data_kernel[-1])\n    data_dataset.append(data_kernel)\n    print(\"\")\n\n\n# Print results on a table using pyplot\nbbox = [0.45, 0.25, 0.6, 0.6]\ntable = plt.table(cellText=[list(q) for q in zip(*data_dataset)],\n                  rowLabels=rows, colLabels=columns, cellLoc = 'center',\n                  rowLoc = 'center', loc='center', bbox=bbox)\n\n_ = plt.axis('off')\n\nplt.show()"
      ],
      "cell_type": "code",
      "execution_count": null
    }
  ],
  "nbformat": 4,
  "nbformat_minor": 0
}