{
  "nbformat": 4,
  "cells": [
    {
      "cell_type": "code",
      "source": [
        "%matplotlib inline"
      ],
      "outputs": [],
      "metadata": {
        "collapsed": false
      },
      "execution_count": null
    },
    {
      "cell_type": "markdown",
      "source": [
        "\n# Calculating a WL-dirac kernel matrix\n\n\nAn example plot of :class:`grakel.graph_kernels`\n\n"
      ],
      "metadata": {}
    },
    {
      "cell_type": "code",
      "source": [
        "import numpy as np\nfrom grakel.graph_kernels import GraphKernel\n\nX = np.array([[0,1,2,1,0,0.5,0],\n              [1,0,0,0,1,2,0.5],\n              [2,0,0,3,0,0,2],\n              [1,0,3,0,0,0,0],\n              [0,1,0,0,0,3,1],\n              [0.5,2,0,0,3,0,0],\n              [0,0.5,2,0,1,0,0]])\n\nL = {0:'banana', 1:'cherry', 2:'banana', 3:'cherry', 4:'peach',5:'cherry',6:'lime'}\n\nk = 10 \nXX = list(zip(k*[X],k*[L]))\nbase_kernel = dict()\n    \ngk = GraphKernel(kernel=[{\"name\":\"weisfeiler_lehman\",\"niter\":5}, {\"name\":\"dirac\"}])\ngkf = gk.fit(XX)\nprint(gkf.transform())"
      ],
      "outputs": [],
      "metadata": {
        "collapsed": false
      },
      "execution_count": null
    }
  ],
  "metadata": {
    "kernelspec": {
      "name": "python3",
      "language": "python",
      "display_name": "Python 3"
    },
    "language_info": {
      "mimetype": "text/x-python",
      "file_extension": ".py",
      "nbconvert_exporter": "python",
      "codemirror_mode": {
        "name": "ipython",
        "version": 3
      },
      "name": "python",
      "pygments_lexer": "ipython3",
      "version": "3.5.2"
    }
  },
  "nbformat_minor": 0
}