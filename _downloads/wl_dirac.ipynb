{
  "nbformat": 4,
  "nbformat_minor": 0,
  "cells": [
    {
      "outputs": [],
      "execution_count": null,
      "metadata": {
        "collapsed": false
      },
      "source": [
        "%matplotlib inline"
      ],
      "cell_type": "code"
    },
    {
      "metadata": {},
      "source": [
        "\n# Calculating a WL-dirac kernel matrix\n\n\nAn example plot of :class:`grakel.graph_kernels`\n\n"
      ],
      "cell_type": "markdown"
    },
    {
      "outputs": [],
      "execution_count": null,
      "metadata": {
        "collapsed": false
      },
      "source": [
        "import numpy as np\nfrom grakel.graph_kernels import GraphKernel\n\nX = np.array([[0,1,2,1,0,0.5,0],\n              [1,0,0,0,1,2,0.5],\n              [2,0,0,3,0,0,2],\n              [1,0,3,0,0,0,0],\n              [0,1,0,0,0,3,1],\n              [0.5,2,0,0,3,0,0],\n              [0,0.5,2,0,1,0,0]])\n\nL = {0:'banana', 1:'cherry', 2:'banana', 3:'cherry', 4:'peach',5:'cherry',6:'lime'}\n\nk = 10 \nXX = list(zip(k*[X],k*[L]))\nbase_kernel = dict()\n    \ngk = GraphKernel(kernel=[{\"name\":\"weisfeiler_lehman\",\"niter\":5}, {\"name\":\"dirac\"}])\ngkf = gk.fit(XX)\nprint(gkf.transform())"
      ],
      "cell_type": "code"
    }
  ],
  "metadata": {
    "language_info": {
      "version": "3.5.2",
      "mimetype": "text/x-python",
      "pygments_lexer": "ipython3",
      "codemirror_mode": {
        "version": 3,
        "name": "ipython"
      },
      "nbconvert_exporter": "python",
      "name": "python",
      "file_extension": ".py"
    },
    "kernelspec": {
      "language": "python",
      "name": "python3",
      "display_name": "Python 3"
    }
  }
}