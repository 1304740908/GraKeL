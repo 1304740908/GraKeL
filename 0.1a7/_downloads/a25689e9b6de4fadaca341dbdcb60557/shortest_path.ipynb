{
  "nbformat_minor": 0, 
  "nbformat": 4, 
  "cells": [
    {
      "execution_count": null, 
      "cell_type": "code", 
      "source": [
        "%matplotlib inline"
      ], 
      "outputs": [], 
      "metadata": {
        "collapsed": false
      }
    }, 
    {
      "source": [
        "\n=============================================================\nGraph classification on MUTAG using the shortest path kernel.\n=============================================================\n\nScript makes use of :class:`grakel.ShortestPath`\n\n"
      ], 
      "cell_type": "markdown", 
      "metadata": {}
    }, 
    {
      "execution_count": null, 
      "cell_type": "code", 
      "source": [
        "from __future__ import print_function\nprint(__doc__)\n\nimport numpy as np\n\nfrom sklearn.model_selection import train_test_split\nfrom sklearn.svm import SVC\nfrom sklearn.metrics import accuracy_score\n\nfrom grakel.datasets import fetch_dataset\nfrom grakel.kernels import ShortestPath\n\n# Loads the MUTAG dataset\nMUTAG = fetch_dataset(\"MUTAG\", verbose=False)\nG, y = MUTAG.data, MUTAG.target\n\n# Splits the dataset into a training and a test set\nG_train, G_test, y_train, y_test = train_test_split(G, y, test_size=0.1, random_state=42)\n\n# Uses the shortest path kernel to generate the kernel matrices\ngk = ShortestPath(normalize=True)\nK_train = gk.fit_transform(G_train)\nK_test = gk.transform(G_test)\n\n# Uses the SVM classifier to perform classification\nclf = SVC(kernel=\"precomputed\")\nclf.fit(K_train, y_train)\ny_pred = clf.predict(K_test)\n\n# Computes and prints the classification accuracy\nacc = accuracy_score(y_test, y_pred)\nprint(\"Accuracy:\", str(round(acc*100, 2)) + \"%\")"
      ], 
      "outputs": [], 
      "metadata": {
        "collapsed": false
      }
    }
  ], 
  "metadata": {
    "kernelspec": {
      "display_name": "Python 2", 
      "name": "python2", 
      "language": "python"
    }, 
    "language_info": {
      "mimetype": "text/x-python", 
      "nbconvert_exporter": "python", 
      "name": "python", 
      "file_extension": ".py", 
      "version": "2.7.17", 
      "pygments_lexer": "ipython2", 
      "codemirror_mode": {
        "version": 2, 
        "name": "ipython"
      }
    }
  }
}