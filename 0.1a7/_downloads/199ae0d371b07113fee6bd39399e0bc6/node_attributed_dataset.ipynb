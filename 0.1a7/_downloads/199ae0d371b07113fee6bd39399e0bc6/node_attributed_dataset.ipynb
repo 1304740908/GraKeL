{
  "cells": [
    {
      "execution_count": null,
      "source": [
        "%matplotlib inline"
      ],
      "outputs": [],
      "cell_type": "code",
      "metadata": {
        "collapsed": false
      }
    },
    {
      "source": [
        "\n=======================================================================\nGraph classification on a dataset that contains node-attributed graphs.\n=======================================================================\n\nScript makes use of :class:`grakel.PropagationAttr`\n\n"
      ],
      "cell_type": "markdown",
      "metadata": {}
    },
    {
      "execution_count": null,
      "source": [
        "from __future__ import print_function\nprint(__doc__)\n\nimport numpy as np\n\nfrom sklearn.model_selection import train_test_split\nfrom sklearn.svm import SVC\nfrom sklearn.metrics import accuracy_score\n\nfrom grakel.datasets import fetch_dataset\nfrom grakel.kernels import PropagationAttr\n\n# Loads the ENZYMES dataset\nENZYMES_attr = fetch_dataset(\"ENZYMES\", prefer_attr_nodes=True, verbose=False)\nG, y = ENZYMES_attr.data, ENZYMES_attr.target\n\n# Splits the dataset into a training and a test set\nG_train, G_test, y_train, y_test = train_test_split(G, y, test_size=0.1, random_state=42)\n\n# Uses the graphhopper kernel to generate the kernel matrices\ngk = PropagationAttr(normalize=True)\nK_train = gk.fit_transform(G_train)\nK_test = gk.transform(G_test)\n\n# Uses the SVM classifier to perform classification\nclf = SVC(kernel=\"precomputed\")\nclf.fit(K_train, y_train)\ny_pred = clf.predict(K_test)\n\n# Computes and prints the classification accuracy\nacc = accuracy_score(y_test, y_pred)\nprint(\"Accuracy:\", str(round(acc*100, 2)) + \"%\")"
      ],
      "outputs": [],
      "cell_type": "code",
      "metadata": {
        "collapsed": false
      }
    }
  ],
  "nbformat_minor": 0,
  "nbformat": 4,
  "metadata": {
    "language_info": {
      "name": "python",
      "mimetype": "text/x-python",
      "pygments_lexer": "ipython3",
      "version": "3.5.9",
      "file_extension": ".py",
      "nbconvert_exporter": "python",
      "codemirror_mode": {
        "name": "ipython",
        "version": 3
      }
    },
    "kernelspec": {
      "display_name": "Python 3",
      "name": "python3",
      "language": "python"
    }
  }
}