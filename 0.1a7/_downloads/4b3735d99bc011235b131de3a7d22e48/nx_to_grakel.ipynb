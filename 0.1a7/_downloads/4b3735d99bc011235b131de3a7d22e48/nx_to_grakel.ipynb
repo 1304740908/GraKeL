{
  "cells": [
    {
      "source": [
        "%matplotlib inline"
      ],
      "outputs": [],
      "metadata": {
        "collapsed": false
      },
      "cell_type": "code",
      "execution_count": null
    },
    {
      "source": [
        "\n=========================================================\nExample of transforming NetworkX graphs to GraKeL graphs.\n=========================================================\n\n"
      ],
      "metadata": {},
      "cell_type": "markdown"
    },
    {
      "source": [
        "from __future__ import print_function\nprint(__doc__)\n\nimport numpy as np\nimport networkx as nx\n\nfrom grakel.utils import graph_from_networkx\n\n# Creates a list of two simple graphs\nG1 = nx.Graph()\nG1.add_nodes_from([0,1,2])\nG1.add_edges_from([(0,1), (1,2)])\n\nG2 = nx.Graph()\nG2.add_nodes_from([0,1,2])\nG2.add_edges_from([(0,1), (0,2), (1,2)])\n\nG_nx = [G1, G2]\n\n# Transforms list of NetworkX graphs into a list of GraKeL graphs\nG = graph_from_networkx(G_nx)\nprint(\"1 - Simple graphs transformed\\n\")\n\n\n# Creates a list of two node-labeled graphs\nG1 = nx.Graph()\nG1.add_nodes_from([0,1,2])\nG1.add_edges_from([(0,1), (1,2)])\nnx.set_node_attributes(G1, {0:'a', 1:'b', 2:'a'}, 'label')\n\nG2 = nx.Graph()\nG2.add_nodes_from([0,1,2])\nG2.add_edges_from([(0,1), (0,2), (1,2)])\nnx.set_node_attributes(G2, {0:'a', 1:'b', 2:'c'}, 'label')\n\nG_nx = [G1, G2]\n\n# Transforms list of NetworkX graphs into a list of GraKeL graphs\nG = graph_from_networkx(G_nx, node_labels_tag='label')\nprint(\"2 - Node-labeled graphs transformed\\n\")\n\n\n# Creates a list of two node-attributed graphs\nG1 = nx.Graph()\nG1.add_nodes_from([0,1,2])\nG1.add_edges_from([(0,1), (1,2)])\nnx.set_node_attributes(G1, {0:np.array([1.1, 0.8]), \n\t1:np.array([0.2, -0.3]), 2:np.array([0.9, 1.0])}, 'attributes')\n\nG2 = nx.Graph()\nG2.add_nodes_from([0,1,2])\nG2.add_edges_from([(0,1), (0,2), (1,2)])\nnx.set_node_attributes(G2, {0:np.array([1.8, 0.5]), \n\t1:np.array([-0.1, 0.2]), 2:np.array([2.3, 1.2])}, 'attributes')\n\nG_nx = [G1, G2]\n\n# Transforms list of NetworkX graphs into a list of GraKeL graphs\nG = graph_from_networkx(G_nx, node_labels_tag='attributes')\nprint(\"3 - Node-attributed graphs transformed\")"
      ],
      "outputs": [],
      "metadata": {
        "collapsed": false
      },
      "cell_type": "code",
      "execution_count": null
    }
  ],
  "nbformat_minor": 0,
  "metadata": {
    "language_info": {
      "version": "3.5.9",
      "codemirror_mode": {
        "version": 3,
        "name": "ipython"
      },
      "mimetype": "text/x-python",
      "pygments_lexer": "ipython3",
      "nbconvert_exporter": "python",
      "name": "python",
      "file_extension": ".py"
    },
    "kernelspec": {
      "language": "python",
      "display_name": "Python 3",
      "name": "python3"
    }
  },
  "nbformat": 4
}