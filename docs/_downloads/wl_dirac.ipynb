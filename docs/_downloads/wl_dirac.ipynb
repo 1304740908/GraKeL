{
  "nbformat_minor": 0, 
  "nbformat": 4, 
  "cells": [
    {
      "execution_count": null, 
      "cell_type": "code", 
      "source": [
        "%matplotlib inline"
      ], 
      "outputs": [], 
      "metadata": {
        "collapsed": false
      }
    }, 
    {
      "source": [
        "\n# Calculating a WL-dirac kernel matrix\n\n\nAn example plot of :class:`grakel.graph_kernels`\n\n"
      ], 
      "cell_type": "markdown", 
      "metadata": {}
    }, 
    {
      "execution_count": null, 
      "cell_type": "code", 
      "source": [
        "import numpy as np\nfrom grakel.graph_kernels import GraphKernel\n\nX = np.array([[0,1,2,1,0,0.5,0],\n              [1,0,0,0,1,2,0.5],\n              [2,0,0,3,0,0,2],\n              [1,0,3,0,0,0,0],\n              [0,1,0,0,0,3,1],\n              [0.5,2,0,0,3,0,0],\n              [0,0.5,2,0,1,0,0]])\n\nL = {0:'banana', 1:'cherry', 2:'banana', 3:'cherry', 4:'peach',5:'cherry',6:'lime'}\n\nk = 10 \nXX = list(zip(k*[X],k*[L]))\nbase_kernel = dict()\n    \ngk = GraphKernel(kernel=[{\"name\":\"weisfeiler_lehman\",\"niter\":5}, {\"name\":\"dirac\"}])\ngkf = gk.fit(XX)\nprint(gkf.transform())"
      ], 
      "outputs": [], 
      "metadata": {
        "collapsed": false
      }
    }
  ], 
  "metadata": {
    "kernelspec": {
      "display_name": "Python 2", 
      "name": "python2", 
      "language": "python"
    }, 
    "language_info": {
      "mimetype": "text/x-python", 
      "nbconvert_exporter": "python", 
      "name": "python", 
      "file_extension": ".py", 
      "version": "2.7.11", 
      "pygments_lexer": "ipython2", 
      "codemirror_mode": {
        "version": 2, 
        "name": "ipython"
      }
    }
  }
}