{
  "nbformat_minor": 0, 
  "nbformat": 4, 
  "cells": [
    {
      "execution_count": null, 
      "cell_type": "code", 
      "source": [
        "%matplotlib inline"
      ], 
      "outputs": [], 
      "metadata": {
        "collapsed": false
      }
    }, 
    {
      "source": [
        "\n========================================================================================\nClassifying handwritten digits using the neighborhood subgraph pairwise distance kernel.\n========================================================================================\nScript makes use of :class:`grakel.NeighborhoodSubgraphPairwiseDistance`\n\n"
      ], 
      "cell_type": "markdown", 
      "metadata": {}
    }, 
    {
      "execution_count": null, 
      "cell_type": "code", 
      "source": [
        "from __future__ import print_function\nprint(__doc__)\n\nimport numpy as np\nimport time\nimport matplotlib.pyplot as plt\n\nfrom sklearn.datasets import load_digits\nfrom sklearn.metrics import accuracy_score\nfrom sklearn.svm import SVC\n\nfrom grakel.kernels import NeighborhoodSubgraphPairwiseDistance\nfrom grakel import Graph\n\ndigits = load_digits()\n\nimages = digits.images\nn_samples, height, width = images.shape\ny = digits.target\nfor i in range(4):\n    plt.subplot(1, 4, i + 1)\n    plt.axis('off')\n    plt.imshow(images[i], cmap=plt.cm.gray_r, interpolation='nearest')\n    plt.title('Training: %i' % y[i])\n\nprint(\"Transforming images to graphs\\n\")\ngraphs = list()\nedges = list()\nedge_labels = dict()\nfor i in range(height):\n    for j in range(width):\n        if j < width-1:\n            edges.append((i*height+j, i*height+j+1))\n            edge_labels[(i*height+j, i*height+j+1)] = 1\n        if i < height-1:\n            edges.append((i*height+j, (i+1)*height+j))\n            edge_labels[(i*height+j, (i+1)*height+j)] = 2\n\nfor i in range(n_samples):\n    node_labels = dict()\n    for j in range(height):\n        for k in range(width):\n            node_labels[j*height+k] = int(images[i,j,k]/4)\n    \n    graphs.append(Graph(edges, node_labels=node_labels, edge_labels=edge_labels))\n\nprint(\"Splitting dataset into train/test (1000/100 instances)\\n\")\ngraphs_train, graphs_test = graphs[:1000], graphs[1000:1100]\ny_train, y_test = y[:1000], y[1000:1100]\n\n# Initialize neighborhood subgraph pairwise distance kernel\ngk = NeighborhoodSubgraphPairwiseDistance(r=3, d=2)\n\nprint(\"Computing kernel matrics\\n\")\nt0 = time.time()\nK_train = gk.fit_transform(graphs_train)\nK_test = gk.transform(graphs_test)\nprint(\"done in %0.3fs\\n\" % (time.time() - t0))\n\nprint(\"Classifying digits\\n\")\n# Initialize SVM\nclf = SVC(kernel='precomputed')\n\n# Fit on the train Kernel\nclf.fit(K_train, y_train)\n\n# Predict and test.\ny_pred = clf.predict(K_test)\n\n# Calculate accuracy of classification.\nprint(\"Classification accuracy: %0.2f\" % accuracy_score(y_test, y_pred))"
      ], 
      "outputs": [], 
      "metadata": {
        "collapsed": false
      }
    }
  ], 
  "metadata": {
    "kernelspec": {
      "display_name": "Python 2", 
      "name": "python2", 
      "language": "python"
    }, 
    "language_info": {
      "mimetype": "text/x-python", 
      "nbconvert_exporter": "python", 
      "name": "python", 
      "file_extension": ".py", 
      "version": "2.7.16", 
      "pygments_lexer": "ipython2", 
      "codemirror_mode": {
        "version": 2, 
        "name": "ipython"
      }
    }
  }
}