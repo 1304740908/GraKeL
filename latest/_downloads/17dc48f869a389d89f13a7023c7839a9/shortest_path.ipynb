{
  "nbformat_minor": 0,
  "nbformat": 4,
  "cells": [
    {
      "outputs": [],
      "execution_count": null,
      "cell_type": "code",
      "source": [
        "%matplotlib inline"
      ],
      "metadata": {
        "collapsed": false
      }
    },
    {
      "cell_type": "markdown",
      "source": [
        "\n=============================================================\nGraph classification on MUTAG using the shortest path kernel.\n=============================================================\n\nScript makes use of :class:`grakel.ShortestPath`\n\n"
      ],
      "metadata": {}
    },
    {
      "outputs": [],
      "execution_count": null,
      "cell_type": "code",
      "source": [
        "from __future__ import print_function\nprint(__doc__)\n\nimport numpy as np\n\nfrom sklearn.model_selection import train_test_split\nfrom sklearn.svm import SVC\nfrom sklearn.metrics import accuracy_score\n\nfrom grakel.datasets import fetch_dataset\nfrom grakel.kernels import ShortestPath\n\n# Loads the MUTAG dataset\nMUTAG = fetch_dataset(\"MUTAG\", verbose=False)\nG, y = MUTAG.data, MUTAG.target\n\n# Splits the dataset into a training and a test set\nG_train, G_test, y_train, y_test = train_test_split(G, y, test_size=0.1, random_state=42)\n\n# Uses the shortest path kernel to generate the kernel matrices\ngk = ShortestPath(normalize=True)\nK_train = gk.fit_transform(G_train)\nK_test = gk.transform(G_test)\n\n# Uses the SVM classifier to perform classification\nclf = SVC(kernel=\"precomputed\")\nclf.fit(K_train, y_train)\ny_pred = clf.predict(K_test)\n\n# Computes and prints the classification accuracy\nacc = accuracy_score(y_test, y_pred)\nprint(\"Accuracy:\", str(round(acc*100, 2)) + \"%\")"
      ],
      "metadata": {
        "collapsed": false
      }
    }
  ],
  "metadata": {
    "language_info": {
      "codemirror_mode": {
        "name": "ipython",
        "version": 3
      },
      "nbconvert_exporter": "python",
      "mimetype": "text/x-python",
      "version": "3.5.9",
      "file_extension": ".py",
      "name": "python",
      "pygments_lexer": "ipython3"
    },
    "kernelspec": {
      "name": "python3",
      "language": "python",
      "display_name": "Python 3"
    }
  }
}