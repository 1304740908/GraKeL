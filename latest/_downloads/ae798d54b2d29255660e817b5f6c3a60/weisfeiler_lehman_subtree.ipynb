{
  "nbformat_minor": 0,
  "nbformat": 4,
  "metadata": {
    "language_info": {
      "name": "python",
      "codemirror_mode": {
        "name": "ipython",
        "version": 3
      },
      "file_extension": ".py",
      "nbconvert_exporter": "python",
      "version": "3.5.9",
      "mimetype": "text/x-python",
      "pygments_lexer": "ipython3"
    },
    "kernelspec": {
      "name": "python3",
      "display_name": "Python 3",
      "language": "python"
    }
  },
  "cells": [
    {
      "execution_count": null,
      "outputs": [],
      "source": [
        "%matplotlib inline"
      ],
      "metadata": {
        "collapsed": false
      },
      "cell_type": "code"
    },
    {
      "source": [
        "\n=========================================================================\nGraph classification on MUTAG using the Weisfeiler-Lehman subtree kernel.\n=========================================================================\n\nScript makes use of :class:`grakel.WeisfeilerLehman`, :class:`grakel.VertexHistogram`\n\n"
      ],
      "metadata": {},
      "cell_type": "markdown"
    },
    {
      "execution_count": null,
      "outputs": [],
      "source": [
        "from __future__ import print_function\nprint(__doc__)\n\nimport numpy as np\n\nfrom sklearn.model_selection import train_test_split\nfrom sklearn.svm import SVC\nfrom sklearn.metrics import accuracy_score\n\nfrom grakel.datasets import fetch_dataset\nfrom grakel.kernels import WeisfeilerLehman, VertexHistogram\n\n# Loads the MUTAG dataset\nMUTAG = fetch_dataset(\"MUTAG\", verbose=False)\nG, y = MUTAG.data, MUTAG.target\n\n# Splits the dataset into a training and a test set\nG_train, G_test, y_train, y_test = train_test_split(G, y, test_size=0.1, random_state=42)\n\n# Uses the Weisfeiler-Lehman subtree kernel to generate the kernel matrices\ngk = WeisfeilerLehman(n_iter=4, base_kernel=VertexHistogram, normalize=True)\nK_train = gk.fit_transform(G_train)\nK_test = gk.transform(G_test)\n\n# Uses the SVM classifier to perform classification\nclf = SVC(kernel=\"precomputed\")\nclf.fit(K_train, y_train)\ny_pred = clf.predict(K_test)\n\n# Computes and prints the classification accuracy\nacc = accuracy_score(y_test, y_pred)\nprint(\"Accuracy:\", str(round(acc*100, 2)) + \"%\")"
      ],
      "metadata": {
        "collapsed": false
      },
      "cell_type": "code"
    }
  ]
}