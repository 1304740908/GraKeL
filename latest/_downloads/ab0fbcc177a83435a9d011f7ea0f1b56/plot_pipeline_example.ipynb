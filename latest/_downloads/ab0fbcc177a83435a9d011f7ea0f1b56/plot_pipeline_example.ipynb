{
  "nbformat": 4,
  "metadata": {
    "language_info": {
      "mimetype": "text/x-python",
      "file_extension": ".py",
      "codemirror_mode": {
        "version": 3,
        "name": "ipython"
      },
      "nbconvert_exporter": "python",
      "version": "3.5.9",
      "name": "python",
      "pygments_lexer": "ipython3"
    },
    "kernelspec": {
      "name": "python3",
      "display_name": "Python 3",
      "language": "python"
    }
  },
  "nbformat_minor": 0,
  "cells": [
    {
      "source": [
        "%matplotlib inline"
      ],
      "cell_type": "code",
      "outputs": [],
      "execution_count": null,
      "metadata": {
        "collapsed": false
      }
    },
    {
      "source": [
        "\n====================================================\nExample of building a graph classification pipeline.\n====================================================\n\nScript makes use of :class:`grakel.ShortestPath`\n\n"
      ],
      "cell_type": "markdown",
      "metadata": {}
    },
    {
      "source": [
        "from __future__ import print_function\nprint(__doc__)\n\nimport numpy as np\n\nfrom sklearn.svm import SVC\nfrom sklearn.model_selection import GridSearchCV\nfrom sklearn.model_selection import cross_val_predict\nfrom sklearn.pipeline import make_pipeline\nfrom sklearn.metrics import accuracy_score\n\nfrom grakel.datasets import fetch_dataset\nfrom grakel.kernels import ShortestPath\n\n# Loads the Mutag dataset from:\nMUTAG = fetch_dataset(\"MUTAG\", verbose=False)\nG, y = MUTAG.data, MUTAG.target\n\n# Values of C parameter of SVM\nC_grid = (10. ** np.arange(-4,6,1) / len(G)).tolist()\n\n# Creates pipeline\nestimator = make_pipeline(\n    ShortestPath(normalize=True),\n    GridSearchCV(SVC(kernel='precomputed'), dict(C=C_grid),\n                 scoring='accuracy', cv=10))\n\n# Performs cross-validation and computes accuracy\nn_folds = 10\nacc = accuracy_score(y, cross_val_predict(estimator, G, y, cv=n_folds))\nprint(\"Accuracy:\", str(round(acc*100, 2)) + \"%\")"
      ],
      "cell_type": "code",
      "outputs": [],
      "execution_count": null,
      "metadata": {
        "collapsed": false
      }
    }
  ]
}